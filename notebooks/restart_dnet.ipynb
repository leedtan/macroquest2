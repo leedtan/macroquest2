{
 "cells": [
  {
   "cell_type": "code",
   "execution_count": 1,
   "metadata": {},
   "outputs": [],
   "source": [
    "import uuid\n"
   ]
  },
  {
   "cell_type": "code",
   "execution_count": 2,
   "metadata": {},
   "outputs": [],
   "source": [
    "import pyre\n",
    "#  Constructor, creates a new Zyre node. Note that until you start the\n",
    "#  node it is silent and invisible to other nodes on the network.\n",
    "node = pyre.Pyre('py2')\n",
    "\n",
    "#  Set node header; these are provided to other nodes during discovery\n",
    "#  and come in each ENTER message.\n",
    "node.set_header(\"blah1\",\"SHOUT\")\n",
    "node.set_header(\"uuid\",repr(node.uuid())[6:-2])\n",
    "node.set_header(\"name\",'brekt_py2')\n",
    "node.set_header(\"blah2\",'clr')\n",
    "\n",
    "#  (TODO: Currently a Pyre node starts immediately) Start node, after setting header values. When you start a node it\n",
    "#  begins discovery and connection.\n",
    "node.start()\n",
    "\n",
    "# #  Stop node, this signals to other peers that this node will go away.\n",
    "# #  This is polite; however you can also just destroy the node without\n",
    "# #  stopping it.\n",
    "# node.stop()\n",
    "\n",
    "#  Join a named group; after joining a group you can send messages to\n",
    "#  the group and all Zyre nodes in that group will receive them.\n",
    "node.join('zpy')\n",
    "\n",
    "# #  Leave a group\n",
    "# node.leave(group)\n",
    "\n",
    "#  Receive next message from network; the message may be a control\n",
    "#  message (ENTER, EXIT, JOIN, LEAVE) or data (WHISPER, SHOUT).\n",
    "#  Returns a list of message frames\n",
    "msgs = node.recv();\n"
   ]
  },
  {
   "cell_type": "code",
   "execution_count": 6,
   "metadata": {},
   "outputs": [
    {
     "name": "stdout",
     "output_type": "stream",
     "text": [
      "[b'ENTER', b'\\x04\\xb9\\xf0x8\\xd1\\x1bG\\xa5Rv\\xd1\"\\x11\\xdc\\xcc', b'brekt_jrogueo', b'{\"name\":\"brekt_jrogueo\"}', b'tcp://10.0.0.164:49170']\n",
      "[b'JOIN', b'Q\\xdck\\xfe\\x88\\xd3\\xcfK\\xb9\\xd7o\\xaa\\x08\\xf2]G', b'brekt_jmagd', b'caster']\n",
      "[b'JOIN', b'/\\xa0`f\\xb0\\x05\\xcdF\\xbe\\xba\\x13\\x97\\x1aR\\x04\\xb6', b'brekt_jwarriord', b'war']\n"
     ]
    }
   ],
   "source": [
    "for i in range(30):\n",
    "    msg = node.recv()\n",
    "    if i % 10 == 0:\n",
    "        print(msg)"
   ]
  },
  {
   "cell_type": "code",
   "execution_count": 44,
   "metadata": {},
   "outputs": [
    {
     "data": {
      "text/plain": [
       "['__bool__',\n",
       " '__class__',\n",
       " '__delattr__',\n",
       " '__dict__',\n",
       " '__dir__',\n",
       " '__doc__',\n",
       " '__eq__',\n",
       " '__format__',\n",
       " '__ge__',\n",
       " '__getattribute__',\n",
       " '__gt__',\n",
       " '__hash__',\n",
       " '__init__',\n",
       " '__init_subclass__',\n",
       " '__le__',\n",
       " '__lt__',\n",
       " '__module__',\n",
       " '__ne__',\n",
       " '__new__',\n",
       " '__nonzero__',\n",
       " '__reduce__',\n",
       " '__reduce_ex__',\n",
       " '__repr__',\n",
       " '__setattr__',\n",
       " '__sizeof__',\n",
       " '__str__',\n",
       " '__subclasshook__',\n",
       " '__weakref__',\n",
       " '_ctx',\n",
       " '_name',\n",
       " '_outbox',\n",
       " '_uuid',\n",
       " 'actor',\n",
       " 'endpoint',\n",
       " 'events',\n",
       " 'get_peer_name',\n",
       " 'inbox',\n",
       " 'join',\n",
       " 'leave',\n",
       " 'name',\n",
       " 'own_groups',\n",
       " 'peer_address',\n",
       " 'peer_groups',\n",
       " 'peer_header_value',\n",
       " 'peer_headers',\n",
       " 'peers',\n",
       " 'peers_by_group',\n",
       " 'recent_events',\n",
       " 'recv',\n",
       " 'set_endpoint',\n",
       " 'set_header',\n",
       " 'set_interface',\n",
       " 'set_interval',\n",
       " 'set_name',\n",
       " 'set_port',\n",
       " 'set_verbose',\n",
       " 'shout',\n",
       " 'shouts',\n",
       " 'socket',\n",
       " 'start',\n",
       " 'stop',\n",
       " 'uuid',\n",
       " 'verbose',\n",
       " 'version',\n",
       " 'whisper',\n",
       " 'whispers']"
      ]
     },
     "execution_count": 44,
     "metadata": {},
     "output_type": "execute_result"
    }
   ],
   "source": [
    "dir(node)"
   ]
  },
  {
   "cell_type": "code",
   "execution_count": 14,
   "metadata": {},
   "outputs": [
    {
     "data": {
      "text/plain": [
       "{'name': 'brekt_jshadowo'}"
      ]
     },
     "execution_count": 14,
     "metadata": {},
     "output_type": "execute_result"
    }
   ],
   "source": [
    "node.peer_headers(node.peers()[0])"
   ]
  },
  {
   "cell_type": "code",
   "execution_count": 7,
   "metadata": {},
   "outputs": [
    {
     "data": {
      "text/plain": [
       "UUID('affbe3c1-9daa-e04f-a6bd-58dac2e8abe3')"
      ]
     },
     "execution_count": 7,
     "metadata": {},
     "output_type": "execute_result"
    }
   ],
   "source": [
    "node.peers()[0]"
   ]
  },
  {
   "cell_type": "code",
   "execution_count": null,
   "metadata": {},
   "outputs": [],
   "source": []
  },
  {
   "cell_type": "code",
   "execution_count": 35,
   "metadata": {
    "scrolled": true
   },
   "outputs": [
    {
     "data": {
      "text/plain": [
       "[b'WHISPER',\n",
       " b'\\xaf\\xfb\\xe3\\xc1\\x9d\\xaa\\xe0O\\xa6\\xbdX\\xda\\xc2\\xe8\\xab\\xe3',\n",
       " b'brekt_jshadowo',\n",
       " b'Execute',\n",
       " b'\\x00\\x00\\x00\\x02hi']"
      ]
     },
     "execution_count": 35,
     "metadata": {},
     "output_type": "execute_result"
    },
    {
     "name": "stderr",
     "output_type": "stream",
     "text": [
      "Peer None isn't ready\n",
      "Peer None isn't ready\n",
      "Peer None isn't ready\n",
      "Peer None isn't ready\n",
      "Peer None isn't ready\n",
      "Peer None isn't ready\n",
      "Peer None isn't ready\n",
      "Peer None isn't ready\n",
      "Peer None isn't ready\n",
      "Peer None isn't ready\n",
      "Peer None isn't ready\n",
      "Peer None isn't ready\n",
      "Peer None isn't ready\n",
      "Peer None isn't ready\n",
      "Peer None isn't ready\n",
      "Peer None isn't ready\n",
      "Peer None isn't ready\n",
      "Peer None isn't ready\n",
      "Peer None isn't ready\n",
      "Peer None isn't ready\n",
      "Peer None isn't ready\n",
      "Peer None isn't ready\n",
      "Peer None isn't ready\n",
      "Peer None isn't ready\n",
      "Peer None isn't ready\n",
      "Peer None isn't ready\n",
      "Peer None isn't ready\n",
      "Peer None isn't ready\n",
      "Peer None isn't ready\n",
      "Peer None isn't ready\n",
      "Peer None isn't ready\n",
      "Peer None isn't ready\n",
      "Peer None isn't ready\n",
      "Peer None isn't ready\n",
      "Peer None isn't ready\n",
      "Peer None isn't ready\n",
      "Peer None isn't ready\n",
      "Peer None isn't ready\n",
      "Peer None isn't ready\n",
      "Peer None isn't ready\n",
      "Peer None isn't ready\n",
      "Peer None isn't ready\n",
      "Peer None isn't ready\n",
      "Peer None isn't ready\n",
      "Peer None isn't ready\n",
      "Peer None isn't ready\n",
      "Peer None isn't ready\n",
      "Peer None isn't ready\n",
      "Peer None isn't ready\n",
      "Peer None isn't ready\n",
      "Peer None isn't ready\n",
      "Peer None isn't ready\n",
      "Peer None isn't ready\n",
      "Peer None isn't ready\n",
      "Peer None isn't ready\n",
      "Peer None isn't ready\n",
      "Peer None isn't ready\n",
      "Peer None isn't ready\n",
      "Peer None isn't ready\n",
      "Peer None isn't ready\n",
      "Peer None isn't ready\n",
      "Peer None isn't ready\n",
      "Peer None isn't ready\n",
      "Peer None isn't ready\n",
      "Peer None isn't ready\n",
      "Peer None isn't ready\n",
      "Peer None isn't ready\n",
      "Peer None isn't ready\n",
      "Peer None isn't ready\n",
      "Peer None isn't ready\n",
      "Peer None isn't ready\n",
      "Peer None isn't ready\n",
      "Peer None isn't ready\n",
      "Peer None isn't ready\n",
      "Peer None isn't ready\n",
      "Peer None isn't ready\n",
      "Peer None isn't ready\n",
      "Peer None isn't ready\n",
      "Peer None isn't ready\n",
      "Peer None isn't ready\n",
      "Peer None isn't ready\n",
      "Peer None isn't ready\n",
      "Peer None isn't ready\n",
      "Peer None isn't ready\n",
      "Peer None isn't ready\n",
      "Peer None isn't ready\n",
      "Peer None isn't ready\n",
      "Peer None isn't ready\n",
      "Peer None isn't ready\n",
      "Peer None isn't ready\n",
      "Peer None isn't ready\n",
      "Peer None isn't ready\n",
      "Peer None isn't ready\n",
      "Peer None isn't ready\n",
      "Peer None isn't ready\n",
      "Peer None isn't ready\n",
      "Peer None isn't ready\n",
      "Peer None isn't ready\n",
      "Peer None isn't ready\n",
      "Peer None isn't ready\n",
      "Peer None isn't ready\n",
      "Peer None isn't ready\n",
      "Peer None isn't ready\n",
      "Peer None isn't ready\n",
      "Peer None isn't ready\n",
      "Peer None isn't ready\n",
      "Peer None isn't ready\n",
      "Peer None isn't ready\n",
      "Peer None isn't ready\n",
      "Peer None isn't ready\n",
      "Peer None isn't ready\n",
      "Peer None isn't ready\n",
      "Peer None isn't ready\n",
      "Peer None isn't ready\n",
      "Peer None isn't ready\n",
      "Peer None isn't ready\n",
      "Peer None isn't ready\n",
      "Peer None isn't ready\n",
      "Peer None isn't ready\n",
      "Peer None isn't ready\n",
      "Peer None isn't ready\n",
      "Peer None isn't ready\n",
      "Peer None isn't ready\n",
      "Peer None isn't ready\n",
      "Peer None isn't ready\n",
      "Peer None isn't ready\n",
      "Peer None isn't ready\n",
      "Peer None isn't ready\n",
      "Peer None isn't ready\n"
     ]
    }
   ],
   "source": [
    "node.recv()"
   ]
  },
  {
   "cell_type": "code",
   "execution_count": null,
   "metadata": {},
   "outputs": [],
   "source": [
    "node.peers"
   ]
  },
  {
   "cell_type": "code",
   "execution_count": null,
   "metadata": {},
   "outputs": [],
   "source": []
  },
  {
   "cell_type": "code",
   "execution_count": 15,
   "metadata": {},
   "outputs": [],
   "source": [
    "node.whisper(\n",
    "    node.peers()[0], \n",
    "    [b'Execute', b'\\x00\\x00\\x00\\x09/echo he '])"
   ]
  },
  {
   "cell_type": "code",
   "execution_count": null,
   "metadata": {},
   "outputs": [],
   "source": []
  },
  {
   "cell_type": "code",
   "execution_count": null,
   "metadata": {},
   "outputs": [],
   "source": []
  },
  {
   "cell_type": "code",
   "execution_count": null,
   "metadata": {},
   "outputs": [],
   "source": [
    "\n",
    "# Send message to single peer, specified as a UUID object (import uuid)\n",
    "# Destroys message after sending\n",
    "node.whisper(peer, msg)\n",
    "\n",
    "# Send message to a named group\n",
    "# Destroys message after sending\n",
    "node.shout(group, msg);\n",
    "\n",
    "#  Send string to single peer specified as a UUID string.\n",
    "#  String is formatted using printf specifiers.\n",
    "node.whispers(peer, msg_string)\n",
    "\n",
    "#  Send message to a named group\n",
    "#  Destroys message after sending\n",
    "node.shouts(group, msg_string);\n",
    "    \n",
    "#  Return handle to the Zyre node, for polling\n",
    "node.get_socket()\n",
    "# use node.get_socket().getsockopt(zmq.FD) to acquire \n",
    "# the filedescriptor\n",
    "# Don't use this for getting Pyre events you can use the \n",
    "# node.inbox to get those events"
   ]
  }
 ],
 "metadata": {
  "kernelspec": {
   "display_name": "Python 3",
   "language": "python",
   "name": "python3"
  },
  "language_info": {
   "codemirror_mode": {
    "name": "ipython",
    "version": 3
   },
   "file_extension": ".py",
   "mimetype": "text/x-python",
   "name": "python",
   "nbconvert_exporter": "python",
   "pygments_lexer": "ipython3",
   "version": "3.7.6"
  }
 },
 "nbformat": 4,
 "nbformat_minor": 4
}
