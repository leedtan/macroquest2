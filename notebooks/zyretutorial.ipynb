{
 "cells": [
  {
   "cell_type": "code",
   "execution_count": 1,
   "metadata": {},
   "outputs": [
    {
     "name": "stdout",
     "output_type": "stream",
     "text": [
      "using Python native module No module named 'zyre_pyzmq'\n",
      "<pyre.zsocket.ZSocket object at 0x0000013A99071438>\n",
      "<pyre.zsocket.ZSocket object at 0x0000013A99071438>\n",
      "<pyre.zsocket.ZSocket object at 0x0000013A99071438> {<pyre.zsocket.ZSocket object at 0x0000013A99071438>: 1}\n",
      "sent last received\n",
      "NODE_MSG TYPE: b'ENTER'\n",
      "NODE_MSG NAME: b'oZ\\xea\\xb3\\x06m\\xceM\\x84\\x90\\x10fE3yf'\n"
     ]
    }
   ],
   "source": [
    "import copy\n",
    "\n",
    "try:\n",
    "    from zyre_pyzmq import Zyre as Pyre\n",
    "except Exception as e:\n",
    "    print(\"using Python native module\", e)\n",
    "    from pyre import Pyre \n",
    "\n",
    "from pyre import zhelper \n",
    "import zmq \n",
    "import uuid\n",
    "import logging\n",
    "import sys\n",
    "import json\n",
    "n = Pyre(\"python\")\n",
    "n.set_header(\"SHOUT\",\"SHOUT\")\n",
    "n.set_header(\"python\",\"python\")\n",
    "# n.set_header(\"pythonui\",\"pythonui\")\n",
    "# n.set_header(\"blah\",\"blah\")\n",
    "# n.set_header(\"clr\",\"example header1\")\n",
    "# n.set_header(\"clr\",\"example header2\")\n",
    "# NODE_MSG TYPE: b'SHOUT'\n",
    "# NODE_MSG PEER: b'clr'\n",
    "# NODE_MSG NAME: b'brekt_kclericw'\n",
    "# NODE_MSG GROUP: b'blah'\n",
    "# NODE_MSG CONT: [b'Echo', b'\\x00\\x00\\x00\\x01a']\n",
    "n.join(\"python\")\n",
    "n.start()\n",
    "last_received_messsages = []\n",
    "messages = []\n",
    "def chat_task(ctx, pipe):\n",
    "    global last_received_messsage\n",
    "    poller = zmq.Poller()\n",
    "    poller.register(pipe, zmq.POLLIN)\n",
    "    print(n.socket())\n",
    "    poller.register(n.socket(), zmq.POLLIN)\n",
    "    print(n.socket())\n",
    "    while(True):\n",
    "        items = dict(poller.poll())\n",
    "        print(n.socket(), items)\n",
    "        if pipe in items and items[pipe] == zmq.POLLIN:\n",
    "            message = pipe.recv()\n",
    "            # message to quit\n",
    "            messages.append(copy.copy(message))\n",
    "            if message.decode('utf-8') == \"$$STOP\":\n",
    "                break\n",
    "            print(\"python_TASK: %s\" % message)\n",
    "            n.shouts(\"python\", message.decode('utf-8'))\n",
    "        else:\n",
    "        #if n.socket() in items and items[n.socket()] == zmq.POLLIN:\n",
    "            cmds = n.recv()\n",
    "            last_received_messsages.append(copy.copy(cmds))\n",
    "            print('sent last received')\n",
    "            msg_type = cmds.pop(0)\n",
    "            print(\"NODE_MSG TYPE: %s\" % msg_type)\n",
    "            \n",
    "#             print(\"NODE_MSG PEER: %s\" % uuid.UUID(bytes=cmds.pop(0)))\n",
    "            print(\"NODE_MSG NAME: %s\" % cmds.pop(0))\n",
    "            if msg_type.decode('utf-8') == \"SHOUT\":\n",
    "                print(\"NODE_MSG GROUP: %s\" % cmds.pop(0))\n",
    "            elif msg_type.decode('utf-8') == \"ENTER\":\n",
    "                headers = json.loads(cmds.pop(0).decode('utf-8'))\n",
    "                print(\"NODE_MSG HEADERS: %s\" % headers)\n",
    "                for key in headers:\n",
    "                    print(\"key = {0}, value = {1}\".format(key, headers[key]))\n",
    "            var = cmds.pop(0)\n",
    "            print('checking var1:')\n",
    "            print(var)\n",
    "            if (cmds):\n",
    "                print('checking var2')\n",
    "                var2 = cmds.pop(0)\n",
    "                print(var2)\n",
    "            if (cmds):\n",
    "                print('checking var3')\n",
    "                var2 = cmds.pop(0)\n",
    "                print(var2)\n",
    "#             var2 = cmds.pop()\n",
    "# #             print(\"NODE_MSG CONT: %s\" % cmds.pop(0))\n",
    "# #             print('popping again %s' % cmds.pop(0))\n",
    "# #             print('whats left %s' % cmds)\n",
    "#             print(\"NODE_MSG CONT: %s\" % cmds.pop(0))\n",
    "#     n.stop()\n",
    "\n",
    "\n",
    "if __name__ == '__main__':\n",
    "    # Create a StreamHandler for debugging\n",
    "    logger = logging.getLogger(\"pyre\")\n",
    "    logger.setLevel(logging.INFO)\n",
    "    logger.addHandler(logging.StreamHandler())\n",
    "    logger.propagate = False\n",
    "\n",
    "    ctx = zmq.Context()\n",
    "    chat_pipe = zhelper.zthread_fork(ctx, chat_task)\n",
    "    # input in python 2 is different\n",
    "    if sys.version_info.major < 3:\n",
    "        input = raw_input\n",
    "\n",
    "#     while True:\n",
    "#         try:\n",
    "#             msg = input()\n",
    "#             chat_pipe.send(msg.encode('utf_8'))\n",
    "#         except (KeyboardInterrupt, SystemExit):\n",
    "#             break\n",
    "#     chat_pipe.send(\"$$STOP\".encode('utf_8'))\n",
    "#     print(\"FINISHED\")"
   ]
  },
  {
   "cell_type": "code",
   "execution_count": 2,
   "metadata": {},
   "outputs": [
    {
     "name": "stdout",
     "output_type": "stream",
     "text": [
      "c8e5e460-5fae-7a4e-97ed-6b27b09d6e96\n"
     ]
    },
    {
     "name": "stderr",
     "output_type": "stream",
     "text": [
      "Exception in thread Thread-8:\n",
      "Traceback (most recent call last):\n",
      "  File \"C:\\Users\\leedt\\anaconda3\\lib\\threading.py\", line 926, in _bootstrap_inner\n",
      "    self.run()\n",
      "  File \"C:\\Users\\leedt\\anaconda3\\lib\\threading.py\", line 870, in run\n",
      "    self._target(*self._args, **self._kwargs)\n",
      "  File \"<ipython-input-1-0e8925daae88>\", line 62, in chat_task\n",
      "    headers = json.loads(cmds.pop(0).decode('utf-8'))\n",
      "  File \"C:\\Users\\leedt\\anaconda3\\lib\\json\\__init__.py\", line 348, in loads\n",
      "    return _default_decoder.decode(s)\n",
      "  File \"C:\\Users\\leedt\\anaconda3\\lib\\json\\decoder.py\", line 337, in decode\n",
      "    obj, end = self.raw_decode(s, idx=_w(s, 0).end())\n",
      "  File \"C:\\Users\\leedt\\anaconda3\\lib\\json\\decoder.py\", line 355, in raw_decode\n",
      "    raise JSONDecodeError(\"Expecting value\", s, err.value) from None\n",
      "json.decoder.JSONDecodeError: Expecting value: line 1 column 1 (char 0)\n",
      "\n"
     ]
    }
   ],
   "source": [
    "print('%s' % uuid.UUID('c8e5e460-5fae-7a4e-97ed-6b27b09d6e96'))"
   ]
  },
  {
   "cell_type": "code",
   "execution_count": 3,
   "metadata": {
    "scrolled": true
   },
   "outputs": [
    {
     "data": {
      "text/plain": [
       "[UUID('6f5aeab3-066d-ce4d-8490-106645337966'),\n",
       " UUID('8516693b-b341-3a46-b501-ecf41ad851e8'),\n",
       " UUID('18c0f73f-c498-034b-b4a6-b6f9fa1ae09f'),\n",
       " UUID('256255ea-e855-f045-ba57-1ed64f746bf9'),\n",
       " UUID('693d7c1b-35b4-bf4d-9e73-50bd2e51eba4'),\n",
       " UUID('40817d01-610d-9447-becb-a68f2fd34851'),\n",
       " UUID('0f8dacbb-c21e-3b46-963b-4b2fb8d354cf'),\n",
       " UUID('e806bc15-6ab4-2c44-83c5-992d26cd97af'),\n",
       " UUID('9ba94331-a9e7-2e4a-af87-216f57f38ed8'),\n",
       " UUID('99e09221-77c3-6444-97dc-09cb5f4cafe1'),\n",
       " UUID('18a8503a-34b6-8f41-b433-d9501e4c29ad'),\n",
       " UUID('dab9d67a-9cd8-fb4a-8950-0725d615d025'),\n",
       " UUID('4ad857d2-15bb-5941-b537-5579201144cb'),\n",
       " UUID('a7b49af8-262f-e447-a32d-f8e268fc5630'),\n",
       " UUID('2a036a70-63af-fb4e-abd2-0f10b4568b28'),\n",
       " UUID('bfd5ce31-9e8a-9c47-8c94-8d3b72f9aabe')]"
      ]
     },
     "execution_count": 3,
     "metadata": {},
     "output_type": "execute_result"
    }
   ],
   "source": [
    "n.peers()"
   ]
  },
  {
   "cell_type": "code",
   "execution_count": 13,
   "metadata": {
    "scrolled": true
   },
   "outputs": [],
   "source": [
    "n.join('python')"
   ]
  },
  {
   "cell_type": "code",
   "execution_count": 6,
   "metadata": {},
   "outputs": [],
   "source": [
    "# last_received_messsages[-4]"
   ]
  },
  {
   "cell_type": "code",
   "execution_count": 7,
   "metadata": {},
   "outputs": [],
   "source": [
    "# ??chat_pipe"
   ]
  },
  {
   "cell_type": "code",
   "execution_count": 7,
   "metadata": {},
   "outputs": [],
   "source": [
    "parts = [\n",
    "    b'SHOUT',b'4976f082-e1d0-d249-b6a0-b3ee5b96be5e',b'python',\n",
    "    b'priest',b'Execute',b'\\x00\\x00\\x00\\x06/bc hi']"
   ]
  },
  {
   "cell_type": "code",
   "execution_count": 8,
   "metadata": {},
   "outputs": [],
   "source": [
    "# n.shout('clr', parts)"
   ]
  },
  {
   "cell_type": "code",
   "execution_count": 10,
   "metadata": {},
   "outputs": [
    {
     "ename": "TypeError",
     "evalue": "unicode/str objects only",
     "output_type": "error",
     "traceback": [
      "\u001b[1;31m---------------------------------------------------------------------------\u001b[0m",
      "\u001b[1;31mTypeError\u001b[0m                                 Traceback (most recent call last)",
      "\u001b[1;32m<ipython-input-10-a39b21867dc6>\u001b[0m in \u001b[0;36m<module>\u001b[1;34m\u001b[0m\n\u001b[1;32m----> 1\u001b[1;33m \u001b[0mn\u001b[0m\u001b[1;33m.\u001b[0m\u001b[0mshouts\u001b[0m\u001b[1;33m(\u001b[0m\u001b[1;34m'python'\u001b[0m\u001b[1;33m,\u001b[0m\u001b[1;33m[\u001b[0m\u001b[1;34m'execute'\u001b[0m\u001b[1;33m,\u001b[0m\u001b[1;34m'hi'\u001b[0m\u001b[1;33m]\u001b[0m\u001b[1;33m)\u001b[0m\u001b[1;33m\u001b[0m\u001b[1;33m\u001b[0m\u001b[0m\n\u001b[0m",
      "\u001b[1;32m~\\anaconda3\\lib\\site-packages\\pyre\\pyre.py\u001b[0m in \u001b[0;36mshouts\u001b[1;34m(self, group, format, *args)\u001b[0m\n\u001b[0;32m    204\u001b[0m         \u001b[0mself\u001b[0m\u001b[1;33m.\u001b[0m\u001b[0mactor\u001b[0m\u001b[1;33m.\u001b[0m\u001b[0msend_unicode\u001b[0m\u001b[1;33m(\u001b[0m\u001b[1;34m\"SHOUT\"\u001b[0m\u001b[1;33m,\u001b[0m \u001b[0mflags\u001b[0m\u001b[1;33m=\u001b[0m\u001b[0mzmq\u001b[0m\u001b[1;33m.\u001b[0m\u001b[0mSNDMORE\u001b[0m\u001b[1;33m)\u001b[0m\u001b[1;33m\u001b[0m\u001b[1;33m\u001b[0m\u001b[0m\n\u001b[0;32m    205\u001b[0m         \u001b[0mself\u001b[0m\u001b[1;33m.\u001b[0m\u001b[0mactor\u001b[0m\u001b[1;33m.\u001b[0m\u001b[0msend_unicode\u001b[0m\u001b[1;33m(\u001b[0m\u001b[0mgroup\u001b[0m\u001b[1;33m,\u001b[0m \u001b[0mflags\u001b[0m\u001b[1;33m=\u001b[0m\u001b[0mzmq\u001b[0m\u001b[1;33m.\u001b[0m\u001b[0mSNDMORE\u001b[0m\u001b[1;33m)\u001b[0m\u001b[1;33m\u001b[0m\u001b[1;33m\u001b[0m\u001b[0m\n\u001b[1;32m--> 206\u001b[1;33m         \u001b[0mself\u001b[0m\u001b[1;33m.\u001b[0m\u001b[0mactor\u001b[0m\u001b[1;33m.\u001b[0m\u001b[0msend_unicode\u001b[0m\u001b[1;33m(\u001b[0m\u001b[0mformat\u001b[0m\u001b[1;33m)\u001b[0m\u001b[1;33m\u001b[0m\u001b[1;33m\u001b[0m\u001b[0m\n\u001b[0m\u001b[0;32m    207\u001b[0m \u001b[1;33m\u001b[0m\u001b[0m\n\u001b[0;32m    208\u001b[0m     \u001b[1;32mdef\u001b[0m \u001b[0mpeers\u001b[0m\u001b[1;33m(\u001b[0m\u001b[0mself\u001b[0m\u001b[1;33m)\u001b[0m\u001b[1;33m:\u001b[0m\u001b[1;33m\u001b[0m\u001b[1;33m\u001b[0m\u001b[0m\n",
      "\u001b[1;32m~\\anaconda3\\lib\\site-packages\\pyre\\zactor.py\u001b[0m in \u001b[0;36msend_unicode\u001b[1;34m(self, *args, **kwargs)\u001b[0m\n\u001b[0;32m     85\u001b[0m \u001b[1;33m\u001b[0m\u001b[0m\n\u001b[0;32m     86\u001b[0m     \u001b[1;32mdef\u001b[0m \u001b[0msend_unicode\u001b[0m\u001b[1;33m(\u001b[0m\u001b[0mself\u001b[0m\u001b[1;33m,\u001b[0m \u001b[1;33m*\u001b[0m\u001b[0margs\u001b[0m\u001b[1;33m,\u001b[0m \u001b[1;33m**\u001b[0m\u001b[0mkwargs\u001b[0m\u001b[1;33m)\u001b[0m\u001b[1;33m:\u001b[0m\u001b[1;33m\u001b[0m\u001b[1;33m\u001b[0m\u001b[0m\n\u001b[1;32m---> 87\u001b[1;33m         \u001b[1;32mreturn\u001b[0m \u001b[0mself\u001b[0m\u001b[1;33m.\u001b[0m\u001b[0mpipe\u001b[0m\u001b[1;33m.\u001b[0m\u001b[0msend_unicode\u001b[0m\u001b[1;33m(\u001b[0m\u001b[1;33m*\u001b[0m\u001b[0margs\u001b[0m\u001b[1;33m,\u001b[0m \u001b[1;33m**\u001b[0m\u001b[0mkwargs\u001b[0m\u001b[1;33m)\u001b[0m\u001b[1;33m\u001b[0m\u001b[1;33m\u001b[0m\u001b[0m\n\u001b[0m\u001b[0;32m     88\u001b[0m \u001b[1;33m\u001b[0m\u001b[0m\n\u001b[0;32m     89\u001b[0m     \u001b[1;32mdef\u001b[0m \u001b[0msend_multipart\u001b[0m\u001b[1;33m(\u001b[0m\u001b[0mself\u001b[0m\u001b[1;33m,\u001b[0m \u001b[1;33m*\u001b[0m\u001b[0margs\u001b[0m\u001b[1;33m,\u001b[0m \u001b[1;33m**\u001b[0m\u001b[0mkwargs\u001b[0m\u001b[1;33m)\u001b[0m\u001b[1;33m:\u001b[0m\u001b[1;33m\u001b[0m\u001b[1;33m\u001b[0m\u001b[0m\n",
      "\u001b[1;32m~\\anaconda3\\lib\\site-packages\\zmq\\sugar\\socket.py\u001b[0m in \u001b[0;36msend_string\u001b[1;34m(self, u, flags, copy, encoding, **kwargs)\u001b[0m\n\u001b[0;32m    565\u001b[0m         \"\"\"\n\u001b[0;32m    566\u001b[0m         \u001b[1;32mif\u001b[0m \u001b[1;32mnot\u001b[0m \u001b[0misinstance\u001b[0m\u001b[1;33m(\u001b[0m\u001b[0mu\u001b[0m\u001b[1;33m,\u001b[0m \u001b[0mbasestring\u001b[0m\u001b[1;33m)\u001b[0m\u001b[1;33m:\u001b[0m\u001b[1;33m\u001b[0m\u001b[1;33m\u001b[0m\u001b[0m\n\u001b[1;32m--> 567\u001b[1;33m             \u001b[1;32mraise\u001b[0m \u001b[0mTypeError\u001b[0m\u001b[1;33m(\u001b[0m\u001b[1;34m\"unicode/str objects only\"\u001b[0m\u001b[1;33m)\u001b[0m\u001b[1;33m\u001b[0m\u001b[1;33m\u001b[0m\u001b[0m\n\u001b[0m\u001b[0;32m    568\u001b[0m         \u001b[1;32mreturn\u001b[0m \u001b[0mself\u001b[0m\u001b[1;33m.\u001b[0m\u001b[0msend\u001b[0m\u001b[1;33m(\u001b[0m\u001b[0mu\u001b[0m\u001b[1;33m.\u001b[0m\u001b[0mencode\u001b[0m\u001b[1;33m(\u001b[0m\u001b[0mencoding\u001b[0m\u001b[1;33m)\u001b[0m\u001b[1;33m,\u001b[0m \u001b[0mflags\u001b[0m\u001b[1;33m=\u001b[0m\u001b[0mflags\u001b[0m\u001b[1;33m,\u001b[0m \u001b[0mcopy\u001b[0m\u001b[1;33m=\u001b[0m\u001b[0mcopy\u001b[0m\u001b[1;33m,\u001b[0m \u001b[1;33m**\u001b[0m\u001b[0mkwargs\u001b[0m\u001b[1;33m)\u001b[0m\u001b[1;33m\u001b[0m\u001b[1;33m\u001b[0m\u001b[0m\n\u001b[0;32m    569\u001b[0m \u001b[1;33m\u001b[0m\u001b[0m\n",
      "\u001b[1;31mTypeError\u001b[0m: unicode/str objects only"
     ]
    }
   ],
   "source": [
    "n.shouts('python',['execute','hi'])"
   ]
  },
  {
   "cell_type": "code",
   "execution_count": 12,
   "metadata": {},
   "outputs": [
    {
     "ename": "Again",
     "evalue": "Resource temporarily unavailable",
     "output_type": "error",
     "traceback": [
      "\u001b[1;31m---------------------------------------------------------------------------\u001b[0m",
      "\u001b[1;31mAgain\u001b[0m                                     Traceback (most recent call last)",
      "\u001b[1;32m<ipython-input-12-f5b2939b8275>\u001b[0m in \u001b[0;36m<module>\u001b[1;34m\u001b[0m\n\u001b[1;32m----> 1\u001b[1;33m \u001b[0mchat_pipe\u001b[0m\u001b[1;33m.\u001b[0m\u001b[0msend_multipart\u001b[0m\u001b[1;33m(\u001b[0m\u001b[1;33m[\u001b[0m\u001b[1;34mb'execute'\u001b[0m\u001b[1;33m,\u001b[0m\u001b[1;34mb'hi'\u001b[0m\u001b[1;33m]\u001b[0m\u001b[1;33m)\u001b[0m\u001b[1;33m\u001b[0m\u001b[1;33m\u001b[0m\u001b[0m\n\u001b[0m",
      "\u001b[1;32m~\\anaconda3\\lib\\site-packages\\zmq\\sugar\\socket.py\u001b[0m in \u001b[0;36msend_multipart\u001b[1;34m(self, msg_parts, flags, copy, track, **kwargs)\u001b[0m\n\u001b[0;32m    443\u001b[0m                 ))\n\u001b[0;32m    444\u001b[0m         \u001b[1;32mfor\u001b[0m \u001b[0mmsg\u001b[0m \u001b[1;32min\u001b[0m \u001b[0mmsg_parts\u001b[0m\u001b[1;33m[\u001b[0m\u001b[1;33m:\u001b[0m\u001b[1;33m-\u001b[0m\u001b[1;36m1\u001b[0m\u001b[1;33m]\u001b[0m\u001b[1;33m:\u001b[0m\u001b[1;33m\u001b[0m\u001b[1;33m\u001b[0m\u001b[0m\n\u001b[1;32m--> 445\u001b[1;33m             \u001b[0mself\u001b[0m\u001b[1;33m.\u001b[0m\u001b[0msend\u001b[0m\u001b[1;33m(\u001b[0m\u001b[0mmsg\u001b[0m\u001b[1;33m,\u001b[0m \u001b[0mSNDMORE\u001b[0m\u001b[1;33m|\u001b[0m\u001b[0mflags\u001b[0m\u001b[1;33m,\u001b[0m \u001b[0mcopy\u001b[0m\u001b[1;33m=\u001b[0m\u001b[0mcopy\u001b[0m\u001b[1;33m,\u001b[0m \u001b[0mtrack\u001b[0m\u001b[1;33m=\u001b[0m\u001b[0mtrack\u001b[0m\u001b[1;33m)\u001b[0m\u001b[1;33m\u001b[0m\u001b[1;33m\u001b[0m\u001b[0m\n\u001b[0m\u001b[0;32m    446\u001b[0m         \u001b[1;31m# Send the last part without the extra SNDMORE flag.\u001b[0m\u001b[1;33m\u001b[0m\u001b[1;33m\u001b[0m\u001b[1;33m\u001b[0m\u001b[0m\n\u001b[0;32m    447\u001b[0m         \u001b[1;32mreturn\u001b[0m \u001b[0mself\u001b[0m\u001b[1;33m.\u001b[0m\u001b[0msend\u001b[0m\u001b[1;33m(\u001b[0m\u001b[0mmsg_parts\u001b[0m\u001b[1;33m[\u001b[0m\u001b[1;33m-\u001b[0m\u001b[1;36m1\u001b[0m\u001b[1;33m]\u001b[0m\u001b[1;33m,\u001b[0m \u001b[0mflags\u001b[0m\u001b[1;33m,\u001b[0m \u001b[0mcopy\u001b[0m\u001b[1;33m=\u001b[0m\u001b[0mcopy\u001b[0m\u001b[1;33m,\u001b[0m \u001b[0mtrack\u001b[0m\u001b[1;33m=\u001b[0m\u001b[0mtrack\u001b[0m\u001b[1;33m)\u001b[0m\u001b[1;33m\u001b[0m\u001b[1;33m\u001b[0m\u001b[0m\n",
      "\u001b[1;32m~\\anaconda3\\lib\\site-packages\\zmq\\sugar\\socket.py\u001b[0m in \u001b[0;36msend\u001b[1;34m(self, data, flags, copy, track, routing_id, group)\u001b[0m\n\u001b[0;32m    398\u001b[0m                                  copy_threshold=self.copy_threshold)\n\u001b[0;32m    399\u001b[0m             \u001b[0mdata\u001b[0m\u001b[1;33m.\u001b[0m\u001b[0mgroup\u001b[0m \u001b[1;33m=\u001b[0m \u001b[0mgroup\u001b[0m\u001b[1;33m\u001b[0m\u001b[1;33m\u001b[0m\u001b[0m\n\u001b[1;32m--> 400\u001b[1;33m         \u001b[1;32mreturn\u001b[0m \u001b[0msuper\u001b[0m\u001b[1;33m(\u001b[0m\u001b[0mSocket\u001b[0m\u001b[1;33m,\u001b[0m \u001b[0mself\u001b[0m\u001b[1;33m)\u001b[0m\u001b[1;33m.\u001b[0m\u001b[0msend\u001b[0m\u001b[1;33m(\u001b[0m\u001b[0mdata\u001b[0m\u001b[1;33m,\u001b[0m \u001b[0mflags\u001b[0m\u001b[1;33m=\u001b[0m\u001b[0mflags\u001b[0m\u001b[1;33m,\u001b[0m \u001b[0mcopy\u001b[0m\u001b[1;33m=\u001b[0m\u001b[0mcopy\u001b[0m\u001b[1;33m,\u001b[0m \u001b[0mtrack\u001b[0m\u001b[1;33m=\u001b[0m\u001b[0mtrack\u001b[0m\u001b[1;33m)\u001b[0m\u001b[1;33m\u001b[0m\u001b[1;33m\u001b[0m\u001b[0m\n\u001b[0m\u001b[0;32m    401\u001b[0m \u001b[1;33m\u001b[0m\u001b[0m\n\u001b[0;32m    402\u001b[0m     \u001b[1;32mdef\u001b[0m \u001b[0msend_multipart\u001b[0m\u001b[1;33m(\u001b[0m\u001b[0mself\u001b[0m\u001b[1;33m,\u001b[0m \u001b[0mmsg_parts\u001b[0m\u001b[1;33m,\u001b[0m \u001b[0mflags\u001b[0m\u001b[1;33m=\u001b[0m\u001b[1;36m0\u001b[0m\u001b[1;33m,\u001b[0m \u001b[0mcopy\u001b[0m\u001b[1;33m=\u001b[0m\u001b[1;32mTrue\u001b[0m\u001b[1;33m,\u001b[0m \u001b[0mtrack\u001b[0m\u001b[1;33m=\u001b[0m\u001b[1;32mFalse\u001b[0m\u001b[1;33m,\u001b[0m \u001b[1;33m**\u001b[0m\u001b[0mkwargs\u001b[0m\u001b[1;33m)\u001b[0m\u001b[1;33m:\u001b[0m\u001b[1;33m\u001b[0m\u001b[1;33m\u001b[0m\u001b[0m\n",
      "\u001b[1;32mzmq/backend/cython/socket.pyx\u001b[0m in \u001b[0;36mzmq.backend.cython.socket.Socket.send\u001b[1;34m()\u001b[0m\n",
      "\u001b[1;32mzmq/backend/cython/socket.pyx\u001b[0m in \u001b[0;36mzmq.backend.cython.socket.Socket.send\u001b[1;34m()\u001b[0m\n",
      "\u001b[1;32mzmq/backend/cython/socket.pyx\u001b[0m in \u001b[0;36mzmq.backend.cython.socket._send_copy\u001b[1;34m()\u001b[0m\n",
      "\u001b[1;32mzmq/backend/cython/socket.pyx\u001b[0m in \u001b[0;36mzmq.backend.cython.socket._send_copy\u001b[1;34m()\u001b[0m\n",
      "\u001b[1;32m~\\anaconda3\\lib\\site-packages\\zmq\\backend\\cython\\checkrc.pxd\u001b[0m in \u001b[0;36mzmq.backend.cython.checkrc._check_rc\u001b[1;34m()\u001b[0m\n",
      "\u001b[1;31mAgain\u001b[0m: Resource temporarily unavailable"
     ]
    },
    {
     "name": "stderr",
     "output_type": "stream",
     "text": [
      "Peer None isn't ready\n",
      "Peer None isn't ready\n",
      "Peer None isn't ready\n",
      "Peer None isn't ready\n",
      "Peer None isn't ready\n",
      "Peer None isn't ready\n",
      "Peer None isn't ready\n",
      "Peer None isn't ready\n",
      "Peer None isn't ready\n",
      "Peer None isn't ready\n",
      "Peer None isn't ready\n",
      "Peer None isn't ready\n",
      "Peer None isn't ready\n",
      "Peer None isn't ready\n",
      "Peer None isn't ready\n",
      "Peer None isn't ready\n",
      "Peer None isn't ready\n",
      "Peer None isn't ready\n",
      "Peer None isn't ready\n",
      "Peer None isn't ready\n",
      "Peer None isn't ready\n",
      "Peer None isn't ready\n",
      "Peer None isn't ready\n",
      "Peer None isn't ready\n",
      "Peer None isn't ready\n",
      "Peer None isn't ready\n",
      "Peer None isn't ready\n",
      "Peer None isn't ready\n",
      "Peer None isn't ready\n",
      "Peer None isn't ready\n",
      "Peer None isn't ready\n",
      "Peer None isn't ready\n",
      "Peer None isn't ready\n",
      "Peer None isn't ready\n",
      "Peer None isn't ready\n",
      "Peer None isn't ready\n",
      "Peer None isn't ready\n",
      "Peer None isn't ready\n",
      "Peer None isn't ready\n",
      "Peer None isn't ready\n",
      "Peer None isn't ready\n",
      "Peer None isn't ready\n",
      "Peer None isn't ready\n",
      "Peer None isn't ready\n",
      "Peer None isn't ready\n",
      "Peer None isn't ready\n",
      "Peer None isn't ready\n",
      "Peer None isn't ready\n",
      "Peer None isn't ready\n",
      "Peer None isn't ready\n",
      "Peer None isn't ready\n",
      "Peer None isn't ready\n",
      "Peer None isn't ready\n",
      "Peer None isn't ready\n",
      "Peer None isn't ready\n",
      "Peer None isn't ready\n",
      "Peer None isn't ready\n",
      "Peer None isn't ready\n",
      "Peer None isn't ready\n",
      "Peer None isn't ready\n",
      "Peer None isn't ready\n",
      "Peer None isn't ready\n",
      "Peer None isn't ready\n"
     ]
    }
   ],
   "source": [
    "chat_pipe.send_multipart([b'execute',b'hi'])"
   ]
  },
  {
   "cell_type": "code",
   "execution_count": 9,
   "metadata": {},
   "outputs": [
    {
     "ename": "Again",
     "evalue": "Resource temporarily unavailable",
     "output_type": "error",
     "traceback": [
      "\u001b[1;31m---------------------------------------------------------------------------\u001b[0m",
      "\u001b[1;31mAgain\u001b[0m                                     Traceback (most recent call last)",
      "\u001b[1;32m<ipython-input-9-2ccef199ea8f>\u001b[0m in \u001b[0;36m<module>\u001b[1;34m\u001b[0m\n\u001b[1;32m----> 1\u001b[1;33m \u001b[0mresponses\u001b[0m \u001b[1;33m=\u001b[0m \u001b[0mchat_pipe\u001b[0m\u001b[1;33m.\u001b[0m\u001b[0msend_multipart\u001b[0m\u001b[1;33m(\u001b[0m\u001b[0mparts\u001b[0m\u001b[1;33m)\u001b[0m\u001b[1;33m\u001b[0m\u001b[1;33m\u001b[0m\u001b[0m\n\u001b[0m\u001b[0;32m      2\u001b[0m \u001b[0mprint\u001b[0m\u001b[1;33m(\u001b[0m\u001b[1;34m'hi'\u001b[0m\u001b[1;33m)\u001b[0m\u001b[1;33m\u001b[0m\u001b[1;33m\u001b[0m\u001b[0m\n",
      "\u001b[1;32m~\\anaconda3\\lib\\site-packages\\zmq\\sugar\\socket.py\u001b[0m in \u001b[0;36msend_multipart\u001b[1;34m(self, msg_parts, flags, copy, track, **kwargs)\u001b[0m\n\u001b[0;32m    443\u001b[0m                 ))\n\u001b[0;32m    444\u001b[0m         \u001b[1;32mfor\u001b[0m \u001b[0mmsg\u001b[0m \u001b[1;32min\u001b[0m \u001b[0mmsg_parts\u001b[0m\u001b[1;33m[\u001b[0m\u001b[1;33m:\u001b[0m\u001b[1;33m-\u001b[0m\u001b[1;36m1\u001b[0m\u001b[1;33m]\u001b[0m\u001b[1;33m:\u001b[0m\u001b[1;33m\u001b[0m\u001b[1;33m\u001b[0m\u001b[0m\n\u001b[1;32m--> 445\u001b[1;33m             \u001b[0mself\u001b[0m\u001b[1;33m.\u001b[0m\u001b[0msend\u001b[0m\u001b[1;33m(\u001b[0m\u001b[0mmsg\u001b[0m\u001b[1;33m,\u001b[0m \u001b[0mSNDMORE\u001b[0m\u001b[1;33m|\u001b[0m\u001b[0mflags\u001b[0m\u001b[1;33m,\u001b[0m \u001b[0mcopy\u001b[0m\u001b[1;33m=\u001b[0m\u001b[0mcopy\u001b[0m\u001b[1;33m,\u001b[0m \u001b[0mtrack\u001b[0m\u001b[1;33m=\u001b[0m\u001b[0mtrack\u001b[0m\u001b[1;33m)\u001b[0m\u001b[1;33m\u001b[0m\u001b[1;33m\u001b[0m\u001b[0m\n\u001b[0m\u001b[0;32m    446\u001b[0m         \u001b[1;31m# Send the last part without the extra SNDMORE flag.\u001b[0m\u001b[1;33m\u001b[0m\u001b[1;33m\u001b[0m\u001b[1;33m\u001b[0m\u001b[0m\n\u001b[0;32m    447\u001b[0m         \u001b[1;32mreturn\u001b[0m \u001b[0mself\u001b[0m\u001b[1;33m.\u001b[0m\u001b[0msend\u001b[0m\u001b[1;33m(\u001b[0m\u001b[0mmsg_parts\u001b[0m\u001b[1;33m[\u001b[0m\u001b[1;33m-\u001b[0m\u001b[1;36m1\u001b[0m\u001b[1;33m]\u001b[0m\u001b[1;33m,\u001b[0m \u001b[0mflags\u001b[0m\u001b[1;33m,\u001b[0m \u001b[0mcopy\u001b[0m\u001b[1;33m=\u001b[0m\u001b[0mcopy\u001b[0m\u001b[1;33m,\u001b[0m \u001b[0mtrack\u001b[0m\u001b[1;33m=\u001b[0m\u001b[0mtrack\u001b[0m\u001b[1;33m)\u001b[0m\u001b[1;33m\u001b[0m\u001b[1;33m\u001b[0m\u001b[0m\n",
      "\u001b[1;32m~\\anaconda3\\lib\\site-packages\\zmq\\sugar\\socket.py\u001b[0m in \u001b[0;36msend\u001b[1;34m(self, data, flags, copy, track, routing_id, group)\u001b[0m\n\u001b[0;32m    398\u001b[0m                                  copy_threshold=self.copy_threshold)\n\u001b[0;32m    399\u001b[0m             \u001b[0mdata\u001b[0m\u001b[1;33m.\u001b[0m\u001b[0mgroup\u001b[0m \u001b[1;33m=\u001b[0m \u001b[0mgroup\u001b[0m\u001b[1;33m\u001b[0m\u001b[1;33m\u001b[0m\u001b[0m\n\u001b[1;32m--> 400\u001b[1;33m         \u001b[1;32mreturn\u001b[0m \u001b[0msuper\u001b[0m\u001b[1;33m(\u001b[0m\u001b[0mSocket\u001b[0m\u001b[1;33m,\u001b[0m \u001b[0mself\u001b[0m\u001b[1;33m)\u001b[0m\u001b[1;33m.\u001b[0m\u001b[0msend\u001b[0m\u001b[1;33m(\u001b[0m\u001b[0mdata\u001b[0m\u001b[1;33m,\u001b[0m \u001b[0mflags\u001b[0m\u001b[1;33m=\u001b[0m\u001b[0mflags\u001b[0m\u001b[1;33m,\u001b[0m \u001b[0mcopy\u001b[0m\u001b[1;33m=\u001b[0m\u001b[0mcopy\u001b[0m\u001b[1;33m,\u001b[0m \u001b[0mtrack\u001b[0m\u001b[1;33m=\u001b[0m\u001b[0mtrack\u001b[0m\u001b[1;33m)\u001b[0m\u001b[1;33m\u001b[0m\u001b[1;33m\u001b[0m\u001b[0m\n\u001b[0m\u001b[0;32m    401\u001b[0m \u001b[1;33m\u001b[0m\u001b[0m\n\u001b[0;32m    402\u001b[0m     \u001b[1;32mdef\u001b[0m \u001b[0msend_multipart\u001b[0m\u001b[1;33m(\u001b[0m\u001b[0mself\u001b[0m\u001b[1;33m,\u001b[0m \u001b[0mmsg_parts\u001b[0m\u001b[1;33m,\u001b[0m \u001b[0mflags\u001b[0m\u001b[1;33m=\u001b[0m\u001b[1;36m0\u001b[0m\u001b[1;33m,\u001b[0m \u001b[0mcopy\u001b[0m\u001b[1;33m=\u001b[0m\u001b[1;32mTrue\u001b[0m\u001b[1;33m,\u001b[0m \u001b[0mtrack\u001b[0m\u001b[1;33m=\u001b[0m\u001b[1;32mFalse\u001b[0m\u001b[1;33m,\u001b[0m \u001b[1;33m**\u001b[0m\u001b[0mkwargs\u001b[0m\u001b[1;33m)\u001b[0m\u001b[1;33m:\u001b[0m\u001b[1;33m\u001b[0m\u001b[1;33m\u001b[0m\u001b[0m\n",
      "\u001b[1;32mzmq/backend/cython/socket.pyx\u001b[0m in \u001b[0;36mzmq.backend.cython.socket.Socket.send\u001b[1;34m()\u001b[0m\n",
      "\u001b[1;32mzmq/backend/cython/socket.pyx\u001b[0m in \u001b[0;36mzmq.backend.cython.socket.Socket.send\u001b[1;34m()\u001b[0m\n",
      "\u001b[1;32mzmq/backend/cython/socket.pyx\u001b[0m in \u001b[0;36mzmq.backend.cython.socket._send_copy\u001b[1;34m()\u001b[0m\n",
      "\u001b[1;32mzmq/backend/cython/socket.pyx\u001b[0m in \u001b[0;36mzmq.backend.cython.socket._send_copy\u001b[1;34m()\u001b[0m\n",
      "\u001b[1;32m~\\anaconda3\\lib\\site-packages\\zmq\\backend\\cython\\checkrc.pxd\u001b[0m in \u001b[0;36mzmq.backend.cython.checkrc._check_rc\u001b[1;34m()\u001b[0m\n",
      "\u001b[1;31mAgain\u001b[0m: Resource temporarily unavailable"
     ]
    }
   ],
   "source": [
    "responses = chat_pipe.send_multipart(parts)\n",
    "print('hi')"
   ]
  },
  {
   "cell_type": "code",
   "execution_count": null,
   "metadata": {},
   "outputs": [],
   "source": [
    "n.peers()"
   ]
  },
  {
   "cell_type": "code",
   "execution_count": null,
   "metadata": {},
   "outputs": [],
   "source": [
    "# chat_pipe.send_multipart([b'SHOUT',b'4976f082-e1d0-d249-b6a0-b3ee5b96be5e',b'pythoncoder',b'clr',b'\\x00\\x00\\x00\\x06aaaaaa'])"
   ]
  },
  {
   "cell_type": "code",
   "execution_count": null,
   "metadata": {},
   "outputs": [],
   "source": []
  },
  {
   "cell_type": "code",
   "execution_count": null,
   "metadata": {},
   "outputs": [],
   "source": []
  },
  {
   "cell_type": "code",
   "execution_count": null,
   "metadata": {},
   "outputs": [],
   "source": [
    "chat_pipe.send(b'hi')"
   ]
  },
  {
   "cell_type": "code",
   "execution_count": null,
   "metadata": {},
   "outputs": [],
   "source": []
  },
  {
   "cell_type": "code",
   "execution_count": null,
   "metadata": {
    "scrolled": true
   },
   "outputs": [],
   "source": [
    "n.join('all')"
   ]
  },
  {
   "cell_type": "code",
   "execution_count": null,
   "metadata": {},
   "outputs": [],
   "source": [
    "last_received_messsage[0]"
   ]
  },
  {
   "cell_type": "code",
   "execution_count": null,
   "metadata": {},
   "outputs": [],
   "source": []
  },
  {
   "cell_type": "code",
   "execution_count": null,
   "metadata": {},
   "outputs": [],
   "source": [
    "n.name()"
   ]
  },
  {
   "cell_type": "code",
   "execution_count": null,
   "metadata": {},
   "outputs": [],
   "source": [
    "# NODE_MSG TYPE: b'SHOUT'\n",
    "# NODE_MSG PEER: b'clr'\n",
    "# NODE_MSG NAME: b'brekt_kclericw'\n",
    "# NODE_MSG GROUP: b'blah'\n",
    "# NODE_MSG CONT: [b'Echo', b'\\x00\\x00\\x00\\x01a']"
   ]
  },
  {
   "cell_type": "code",
   "execution_count": null,
   "metadata": {},
   "outputs": [],
   "source": [
    "# ??chat_pipe"
   ]
  },
  {
   "cell_type": "code",
   "execution_count": null,
   "metadata": {},
   "outputs": [],
   "source": [
    "# chat_pipe.send(b'SHOUT',b'pythoncode',b'pythoncoder',b'clr',b'\\x00\\x00\\x00\\x06aaaaaa')"
   ]
  },
  {
   "cell_type": "code",
   "execution_count": null,
   "metadata": {},
   "outputs": [],
   "source": [
    "# dir(n.peers()[0])"
   ]
  },
  {
   "cell_type": "code",
   "execution_count": null,
   "metadata": {},
   "outputs": [],
   "source": [
    "# n.peers()[0].urn[9:]\n",
    "\n",
    "# for i, v in enumerate(n.peers()):\n",
    "#     print(v)\n",
    "\n",
    "# type('hi'.encode('utf-8'))"
   ]
  },
  {
   "cell_type": "code",
   "execution_count": null,
   "metadata": {},
   "outputs": [],
   "source": [
    "chat_pipe.send(b'\\x00\\x00\\x00\\x06aaaaaa')"
   ]
  },
  {
   "cell_type": "code",
   "execution_count": null,
   "metadata": {},
   "outputs": [],
   "source": [
    "last_received_messsage"
   ]
  },
  {
   "cell_type": "code",
   "execution_count": null,
   "metadata": {},
   "outputs": [],
   "source": [
    "# for i, v in enumerate(n.peers()):\n",
    "#     print(v.urn[9:])\n",
    "#     chat_pipe.send(b'SHOUT')\n",
    "#     chat_pipe.send(v.urn[9:].encode('utf-8'))\n",
    "#     chat_pipe.send(b'brekt_clr')\n",
    "#     chat_pipe.send(b'clr')\n",
    "#     chat_pipe.send(b'\\x00\\x00\\x00\\x06aaaaaa')"
   ]
  },
  {
   "cell_type": "code",
   "execution_count": null,
   "metadata": {},
   "outputs": [],
   "source": []
  },
  {
   "cell_type": "code",
   "execution_count": null,
   "metadata": {
    "scrolled": false
   },
   "outputs": [],
   "source": [
    "\n",
    "while True:\n",
    "    try:\n",
    "        msg = input()\n",
    "        chat_pipe.send(msg.encode('utf_8'))\n",
    "    except (KeyboardInterrupt, SystemExit):\n",
    "        break\n",
    "chat_pipe.send(\"$$STOP\".encode('utf_8'))\n",
    "print(\"FINISHED\")"
   ]
  },
  {
   "cell_type": "code",
   "execution_count": null,
   "metadata": {},
   "outputs": [],
   "source": [
    "class _zmsg_t:\n",
    "    def __init__(self,tag,frames,routing_id):\n",
    "        self.tag = tag\n",
    "        self.frames=frames\n",
    "        self.routing_id = routing_id\n",
    "        \n",
    "\n",
    "z = _zmsg_t('tag','blah',12345)\n",
    "\n",
    "import pickle\n",
    "\n",
    "pickle.dumps(z)"
   ]
  },
  {
   "cell_type": "code",
   "execution_count": null,
   "metadata": {},
   "outputs": [],
   "source": []
  }
 ],
 "metadata": {
  "kernelspec": {
   "display_name": "Python 3",
   "language": "python",
   "name": "python3"
  },
  "language_info": {
   "codemirror_mode": {
    "name": "ipython",
    "version": 3
   },
   "file_extension": ".py",
   "mimetype": "text/x-python",
   "name": "python",
   "nbconvert_exporter": "python",
   "pygments_lexer": "ipython3",
   "version": "3.7.6"
  }
 },
 "nbformat": 4,
 "nbformat_minor": 4
}
