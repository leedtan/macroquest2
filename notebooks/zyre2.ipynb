{
 "cells": [
  {
   "cell_type": "code",
   "execution_count": 1,
   "metadata": {},
   "outputs": [],
   "source": [
    "import zmq\n",
    "import sys\n",
    "\n",
    "port = \"5905\"\n"
   ]
  },
  {
   "cell_type": "code",
   "execution_count": 2,
   "metadata": {},
   "outputs": [],
   "source": [
    "context = zmq.Context()\n",
    "socket = context.socket(zmq.REQ)\n",
    "socket.connect(\"tcp://localhost:%s\" % port)"
   ]
  },
  {
   "cell_type": "code",
   "execution_count": 3,
   "metadata": {},
   "outputs": [
    {
     "name": "stdout",
     "output_type": "stream",
     "text": [
      "reply received b'i got message Hello and i say World from 5905'\n",
      "reply received b'i got message Hello and i say World from 5905'\n",
      "reply received b'i got message Hello and i say World from 5905'\n",
      "reply received b'i got message Hello and i say World from 5905'\n",
      "reply received b'i got message Hello and i say World from 5905'\n",
      "reply received b'i got message Hello and i say World from 5905'\n",
      "reply received b'i got message Hello and i say World from 5905'\n",
      "reply received b'i got message Hello and i say World from 5905'\n",
      "reply received b'i got message Hello and i say World from 5905'\n"
     ]
    }
   ],
   "source": [
    "for request in range (1,10):\n",
    "    socket.send_string(\"Hello\")\n",
    "    message = socket.recv()\n",
    "    print('reply received', message)\n"
   ]
  },
  {
   "cell_type": "code",
   "execution_count": null,
   "metadata": {},
   "outputs": [],
   "source": []
  }
 ],
 "metadata": {
  "kernelspec": {
   "display_name": "Python 3",
   "language": "python",
   "name": "python3"
  },
  "language_info": {
   "codemirror_mode": {
    "name": "ipython",
    "version": 3
   },
   "file_extension": ".py",
   "mimetype": "text/x-python",
   "name": "python",
   "nbconvert_exporter": "python",
   "pygments_lexer": "ipython3",
   "version": "3.7.6"
  }
 },
 "nbformat": 4,
 "nbformat_minor": 4
}
